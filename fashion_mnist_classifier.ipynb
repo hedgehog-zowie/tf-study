{
  "nbformat": 4,
  "nbformat_minor": 0,
  "metadata": {
    "colab": {
      "name": "fashion_mnist_classifier.ipynb",
      "version": "0.3.2",
      "provenance": [],
      "collapsed_sections": [],
      "include_colab_link": true
    },
    "kernelspec": {
      "name": "python3",
      "display_name": "Python 3"
    }
  },
  "cells": [
    {
      "cell_type": "markdown",
      "metadata": {
        "id": "view-in-github",
        "colab_type": "text"
      },
      "source": [
        "<a href=\"https://colab.research.google.com/github/hedgehog-zowie/tf-study/blob/master/fashion_mnist_classifier.ipynb\" target=\"_parent\"><img src=\"https://colab.research.google.com/assets/colab-badge.svg\" alt=\"Open In Colab\"/></a>"
      ]
    },
    {
      "metadata": {
        "id": "z8rEYifvBUHQ",
        "colab_type": "text"
      },
      "cell_type": "markdown",
      "source": [
        "第一个tensorflow例子，使用tensorflow的keras api实现服饰图像分类。"
      ]
    },
    {
      "metadata": {
        "id": "v9XN8HdJC_HV",
        "colab_type": "text"
      },
      "cell_type": "markdown",
      "source": [
        "1. 导入相关module。"
      ]
    },
    {
      "metadata": {
        "id": "DKuiaf4qBX0T",
        "colab_type": "code",
        "colab": {
          "base_uri": "https://localhost:8080/",
          "height": 71
        },
        "outputId": "458f1464-eb71-4593-d7d9-00e4f5df4c16"
      },
      "cell_type": "code",
      "source": [
        "# import modules\n",
        "import tensorflow as tf\n",
        "from tensorflow import keras\n",
        "\n",
        "import numpy as np\n",
        "import matplotlib as mpl\n",
        "import matplotlib.pyplot as plt\n",
        "\n",
        "# 查看各个module的版本\n",
        "print('tensorflow version: ', tf.__version__)\n",
        "print('numpy version: ', np.__version__)\n",
        "print('matplot version: ', mpl.__version__)"
      ],
      "execution_count": 4,
      "outputs": [
        {
          "output_type": "stream",
          "text": [
            "tensorflow version:  1.13.0-rc1\n",
            "numpy version:  1.14.6\n",
            "matplot version:  3.0.2\n"
          ],
          "name": "stdout"
        }
      ]
    },
    {
      "metadata": {
        "id": "7IpVOFpQDEBV",
        "colab_type": "text"
      },
      "cell_type": "markdown",
      "source": [
        ""
      ]
    },
    {
      "metadata": {
        "id": "OCGVBZJgDGiN",
        "colab_type": "text"
      },
      "cell_type": "markdown",
      "source": [
        "2. 导入fashion mnist数据集。keras已经封装了一些数据集，包括mnist、fashion mnist、boston housing price等，我们可以非常简便地导入这些数据集。"
      ]
    },
    {
      "metadata": {
        "id": "imK7pVaSEBus",
        "colab_type": "code",
        "colab": {}
      },
      "cell_type": "code",
      "source": [
        "fashion_mnist = keras.datasets.fashion_mnist\n",
        "# train_images和train_labels是训练集，test_images和test_labels是测试集\n",
        "(train_images, train_labels), (test_images, test_labels) = fashion_mnist.load_data()"
      ],
      "execution_count": 0,
      "outputs": []
    },
    {
      "metadata": {
        "id": "L4UAYs6LEBAE",
        "colab_type": "text"
      },
      "cell_type": "markdown",
      "source": [
        ""
      ]
    },
    {
      "metadata": {
        "id": "4jbEbddqEoh9",
        "colab_type": "text"
      },
      "cell_type": "markdown",
      "source": [
        "3. 对数据进行预处理，本例中仅需要将各个像素值缩放到0-1之间即可。"
      ]
    },
    {
      "metadata": {
        "id": "TevL8f64E2pU",
        "colab_type": "code",
        "colab": {}
      },
      "cell_type": "code",
      "source": [
        "train_images = train_images / 255.0\n",
        "test_images = test_images / 255.0"
      ],
      "execution_count": 0,
      "outputs": []
    },
    {
      "metadata": {
        "id": "RasbSR_dFHkm",
        "colab_type": "text"
      },
      "cell_type": "markdown",
      "source": [
        "4. 设置层，包括层数，各层的神经元个数、激活函数等。"
      ]
    },
    {
      "metadata": {
        "id": "4Vdegmg6Fbl4",
        "colab_type": "code",
        "colab": {}
      },
      "cell_type": "code",
      "source": [
        "model = keras.Sequential([\n",
        "    # 将图像组成向量进行扁平化处理，即将28 X 28的二维数组转换成一维数组\n",
        "    keras.layers.Flatten(input_shape=(28,28)),\n",
        "    # 全连接层，包含128个神经元，激活函数为relu\n",
        "    keras.layers.Dense(128, activation = tf.nn.relu),\n",
        "    # 全连接层，包含10个神经元，激活函数为softmax\n",
        "    keras.layers.Dense(10, activation = tf.nn.softmax)\n",
        "])"
      ],
      "execution_count": 0,
      "outputs": []
    },
    {
      "metadata": {
        "id": "GeEYxKNBIwq5",
        "colab_type": "text"
      },
      "cell_type": "markdown",
      "source": [
        "5. 编译模型，需要设置3个重要参数优化器、损失函数、评估指标。"
      ]
    },
    {
      "metadata": {
        "id": "ut3SEMh1Jcpt",
        "colab_type": "code",
        "colab": {}
      },
      "cell_type": "code",
      "source": [
        "model.compile(optimizer = tf.train.AdamOptimizer(),\n",
        "             loss = 'sparse_categorical_crossentropy',\n",
        "             metrics = ['accuracy'])"
      ],
      "execution_count": 0,
      "outputs": []
    },
    {
      "metadata": {
        "id": "2zhD9DGjJxQm",
        "colab_type": "text"
      },
      "cell_type": "markdown",
      "source": [
        "6. 训练模型，将数据传递到模型中进行拟合。"
      ]
    },
    {
      "metadata": {
        "id": "iqs9KynpKCHg",
        "colab_type": "code",
        "colab": {
          "base_uri": "https://localhost:8080/",
          "height": 395
        },
        "outputId": "36c36685-5a11-4005-b9f2-b3f06e292af2"
      },
      "cell_type": "code",
      "source": [
        "model.fit(train_images, train_labels, epochs = 10)"
      ],
      "execution_count": 21,
      "outputs": [
        {
          "output_type": "stream",
          "text": [
            "Epoch 1/10\n",
            "60000/60000 [==============================] - 5s 81us/sample - loss: 0.5003 - acc: 0.8255\n",
            "Epoch 2/10\n",
            "60000/60000 [==============================] - 5s 81us/sample - loss: 0.3771 - acc: 0.8623\n",
            "Epoch 3/10\n",
            "60000/60000 [==============================] - 5s 80us/sample - loss: 0.3407 - acc: 0.8765\n",
            "Epoch 4/10\n",
            "60000/60000 [==============================] - 5s 80us/sample - loss: 0.3164 - acc: 0.8832\n",
            "Epoch 5/10\n",
            "60000/60000 [==============================] - 5s 82us/sample - loss: 0.2982 - acc: 0.8893\n",
            "Epoch 6/10\n",
            "60000/60000 [==============================] - 5s 80us/sample - loss: 0.2845 - acc: 0.8956\n",
            "Epoch 7/10\n",
            "60000/60000 [==============================] - 5s 80us/sample - loss: 0.2709 - acc: 0.8994\n",
            "Epoch 8/10\n",
            "60000/60000 [==============================] - 5s 81us/sample - loss: 0.2599 - acc: 0.9036\n",
            "Epoch 9/10\n",
            "60000/60000 [==============================] - 5s 80us/sample - loss: 0.2524 - acc: 0.9060\n",
            "Epoch 10/10\n",
            "60000/60000 [==============================] - 5s 81us/sample - loss: 0.2423 - acc: 0.9099\n"
          ],
          "name": "stdout"
        },
        {
          "output_type": "execute_result",
          "data": {
            "text/plain": [
              "<tensorflow.python.keras.callbacks.History at 0x7fc721d84048>"
            ]
          },
          "metadata": {
            "tags": []
          },
          "execution_count": 21
        }
      ]
    },
    {
      "metadata": {
        "id": "2zliynjAKPmj",
        "colab_type": "text"
      },
      "cell_type": "markdown",
      "source": [
        "7. 模型评估，使用测试集进行模型评估。"
      ]
    },
    {
      "metadata": {
        "id": "94gwp1MDKb_E",
        "colab_type": "code",
        "colab": {
          "base_uri": "https://localhost:8080/",
          "height": 53
        },
        "outputId": "57efa902-65b3-4a22-aea2-e3c630b4fa98"
      },
      "cell_type": "code",
      "source": [
        "test_loss, test_acc = model.evaluate(test_images, test_labels)\n",
        "print('test loss: ', test_loss, ', test accuracy: ', test_acc)"
      ],
      "execution_count": 22,
      "outputs": [
        {
          "output_type": "stream",
          "text": [
            "10000/10000 [==============================] - 0s 48us/sample - loss: 0.3420 - acc: 0.8808\n",
            "test loss:  0.3420364769101143 , test accuracy:  0.8808\n"
          ],
          "name": "stdout"
        }
      ]
    },
    {
      "metadata": {
        "id": "z5Hj92kPKxgD",
        "colab_type": "text"
      },
      "cell_type": "markdown",
      "source": [
        "8. 模型推理（预测），keras仅支持批量推理，因此，当我们仅需要对一个图像进行推理时，也需要将其添加到列表中，再调用predict方法。"
      ]
    },
    {
      "metadata": {
        "id": "imsg1odlK4MV",
        "colab_type": "code",
        "colab": {
          "base_uri": "https://localhost:8080/",
          "height": 143
        },
        "outputId": "c0189a14-7e1f-47a5-dc19-e242a507e137"
      },
      "cell_type": "code",
      "source": [
        "# 对所有测试集进行推理\n",
        "predictions = model.predict(test_images)\n",
        "\n",
        "print('对第0个图像的预测结果：', predictions[0])\n",
        "# 第0个图片真实分类\n",
        "c0 = test_labels[0]\n",
        "# 预测第0个图片的分类\n",
        "p0 = np.argmax(predictions[0])\n",
        "print('真实：', c0, '，预测为： ', p0)\n",
        "\n",
        "# 对单个图像进行推理\n",
        "img = test_images[1]\n",
        "img = np.expand_dims(img, 0)\n",
        "print('img1 shape: ', img.shape)\n",
        "predictions_single = model.predict(img)\n",
        "print('对单个图像的预测结果：', predictions_single)\n",
        "# 第1个图片真实分类\n",
        "c1 = test_labels[1]\n",
        "# 预测第1个图片的分类\n",
        "p1 = np.argmax(predictions_single[0])\n",
        "print('真实：', c1, '，预测为： ', p1)"
      ],
      "execution_count": 24,
      "outputs": [
        {
          "output_type": "stream",
          "text": [
            "对第0个图像的预测结果： [9.1227378e-07 3.0615727e-08 2.6756678e-07 7.1249616e-07 2.5022945e-07\n",
            " 3.9069896e-04 3.6816812e-06 1.6117072e-01 7.3979288e-07 8.3843201e-01]\n",
            "真实： 9 ，预测为：  9\n",
            "img1 shape:  (1, 28, 28)\n",
            "对单个图像的预测结果： [[3.6814815e-06 1.2482845e-14 9.9983430e-01 5.7195720e-13 1.3825306e-04\n",
            "  1.5406041e-12 2.3665940e-05 2.5422861e-19 2.4188240e-12 2.0523215e-11]]\n",
            "真实： 2 ，预测为：  2\n"
          ],
          "name": "stdout"
        }
      ]
    }
  ]
}